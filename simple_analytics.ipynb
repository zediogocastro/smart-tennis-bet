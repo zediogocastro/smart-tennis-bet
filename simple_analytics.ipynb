{
 "cells": [
  {
   "cell_type": "markdown",
   "metadata": {},
   "source": [
    "# Simple analytics"
   ]
  },
  {
   "cell_type": "code",
   "execution_count": 1,
   "metadata": {},
   "outputs": [],
   "source": [
    "import psycopg2\n",
    "import pandas as pd\n",
    "from db_values import HOST, DBNAME, USER, PASSWORD\n",
    "from sql_queries import AVG_POINTS_BY_PLAYER_QUERY, COUNT_GAMES_PER_TOURNAMENT_QUERY, WINS_PER_SURFACE_QUERY, CURRENT_PRE_MATCH_ATP_RANKINGS_QUERY"
   ]
  },
  {
   "cell_type": "code",
   "execution_count": 2,
   "metadata": {},
   "outputs": [],
   "source": [
    "def connect_to_db():\n",
    "    try:\n",
    "        # Set up the connection parameters to PostgreSQL\n",
    "        conn = psycopg2.connect(\n",
    "            dbname=DBNAME,  \n",
    "            user=USER,         \n",
    "            password=PASSWORD,     \n",
    "            host=HOST,             \n",
    "        )\n",
    "        print(\"Connection to database established.\")\n",
    "        return conn\n",
    "    except Exception as e:\n",
    "        print(f\"Error connecting to database: {e}\")\n",
    "        return None"
   ]
  },
  {
   "cell_type": "code",
   "execution_count": 3,
   "metadata": {},
   "outputs": [],
   "source": [
    "def execute_and_print_query(query, row_limit=10):\n",
    "    conn = connect_to_db()\n",
    "    if conn is None:\n",
    "        return\n",
    "\n",
    "    try:\n",
    "        cur = conn.cursor()\n",
    "        cur.execute(query)\n",
    "\n",
    "        # Fetch all results\n",
    "        results = cur.fetchall()\n",
    "\n",
    "        # Print top rows up to the specified limit\n",
    "        for idx, row in enumerate(results[:row_limit]):\n",
    "            print(f\"Row {idx + 1}: {row}\")\n",
    "\n",
    "        cur.close()\n",
    "        conn.close()\n",
    "        print(\"Database connection closed.\")\n",
    "    except Exception as e:\n",
    "        print(f\"Error during DB operation: {e}\")"
   ]
  },
  {
   "cell_type": "code",
   "execution_count": 4,
   "metadata": {},
   "outputs": [
    {
     "name": "stdout",
     "output_type": "stream",
     "text": [
      "Connection to database established.\n",
      "Row 1: (248, 'Van Rijthoven T.', None)\n",
      "Row 2: (60, 'Djokovic N.', Decimal('9526.2500000000000000'))\n",
      "Row 3: (53, 'Sinner J.', Decimal('8613.2258064516129032'))\n",
      "Row 4: (86, 'Alcaraz C.', Decimal('8324.1666666666666667'))\n",
      "Row 5: (63, 'Medvedev D.', Decimal('7095.4081632653061224'))\n",
      "Database connection closed.\n"
     ]
    }
   ],
   "source": [
    "execute_and_print_query(AVG_POINTS_BY_PLAYER_QUERY, row_limit=5)"
   ]
  },
  {
   "cell_type": "code",
   "execution_count": 5,
   "metadata": {},
   "outputs": [
    {
     "name": "stdout",
     "output_type": "stream",
     "text": [
      "Connection to database established.\n",
      "Row 1: (32, 'French Open', 127)\n",
      "Row 2: (39, 'Wimbledon', 127)\n",
      "Row 3: (5, 'Australian Open', 127)\n",
      "Row 4: (51, 'US Open', 127)\n",
      "Row 5: (28, 'Mutua Madrid Open', 95)\n",
      "Row 6: (29, \"Internazionali BNL d'Italia\", 95)\n",
      "Row 7: (20, 'Miami Open', 95)\n",
      "Row 8: (19, 'BNP Paribas Open', 95)\n",
      "Row 9: (49, 'Western & Southern Financial Group Masters', 55)\n",
      "Row 10: (48, 'Canadian Open', 55)\n",
      "Database connection closed.\n"
     ]
    }
   ],
   "source": [
    "execute_and_print_query(COUNT_GAMES_PER_TOURNAMENT_QUERY, row_limit=10)"
   ]
  },
  {
   "cell_type": "code",
   "execution_count": 6,
   "metadata": {},
   "outputs": [
    {
     "name": "stdout",
     "output_type": "stream",
     "text": [
      "Connection to database established.\n",
      "Row 1: (53, 'Sinner J.', 1, 9360)\n",
      "Row 2: (60, 'Djokovic N.', 2, 7460)\n",
      "Row 3: (86, 'Alcaraz C.', 3, 7360)\n",
      "Row 4: (85, 'Zverev A.', 4, 7035)\n",
      "Row 5: (63, 'Medvedev D.', 5, 6275)\n",
      "Row 6: (30, 'Rublev A.', 6, 4805)\n",
      "Row 7: (76, 'Hurkacz H.', 7, 4055)\n",
      "Row 8: (82, 'Ruud C.', 8, 3855)\n",
      "Row 9: (5, 'Dimitrov G.', 9, 3655)\n",
      "Row 10: (75, 'De Minaur A.', 10, 3435)\n",
      "Database connection closed.\n"
     ]
    }
   ],
   "source": [
    "execute_and_print_query(CURRENT_PRE_MATCH_ATP_RANKINGS_QUERY, row_limit=10)"
   ]
  },
  {
   "cell_type": "code",
   "execution_count": 7,
   "metadata": {},
   "outputs": [
    {
     "name": "stdout",
     "output_type": "stream",
     "text": [
      "Connection to database established.\n",
      "Row 1: (53, 'Sinner J.', 'Hard', 36)\n",
      "Row 2: (30, 'Rublev A.', 'Hard', 26)\n",
      "Row 3: (11, 'Thompson J.', 'Hard', 25)\n",
      "Row 4: (5, 'Dimitrov G.', 'Hard', 25)\n",
      "Row 5: (56, 'Baez S.', 'Clay', 23)\n",
      "Row 6: (85, 'Zverev A.', 'Hard', 23)\n",
      "Row 7: (82, 'Ruud C.', 'Clay', 22)\n",
      "Row 8: (63, 'Medvedev D.', 'Hard', 22)\n",
      "Row 9: (101, 'Darderi L.', 'Clay', 21)\n",
      "Row 10: (29, 'Tiafoe F.', 'Hard', 21)\n",
      "Database connection closed.\n"
     ]
    }
   ],
   "source": [
    "execute_and_print_query(WINS_PER_SURFACE_QUERY, row_limit=10)"
   ]
  },
  {
   "cell_type": "code",
   "execution_count": 16,
   "metadata": {},
   "outputs": [
    {
     "name": "stdout",
     "output_type": "stream",
     "text": [
      "Connection to database established.\n",
      "Row 1: (datetime.date(2024, 9, 8), 'The Final', 'Sinner J.', 'Fritz T.', 1, 12, 9360, 3120, 3, 0, 'Completed')\n",
      "Row 2: (datetime.date(2024, 9, 7), 'Semifinals', 'Fritz T.', 'Tiafoe F.', 12, 20, 3120, 2120, 3, 2, 'Completed')\n",
      "Row 3: (datetime.date(2024, 9, 6), 'Semifinals', 'Sinner J.', 'Draper J.', 1, 25, 9360, 1695, 3, 0, 'Completed')\n",
      "Row 4: (datetime.date(2024, 9, 5), 'Quarterfinals', 'Sinner J.', 'Medvedev D.', 1, 5, 9360, 6275, 3, 1, 'Completed')\n",
      "Row 5: (datetime.date(2024, 9, 4), 'Quarterfinals', 'Tiafoe F.', 'Dimitrov G.', 20, 9, 2120, 3655, 2, 1, 'Retired')\n",
      "Database connection closed.\n"
     ]
    }
   ],
   "source": [
    "execute_and_print_query(\"\"\"\n",
    "                        SELECT\n",
    "                        --m.match_id,\n",
    "                        --m.tournament_id,\n",
    "                        m.date,\n",
    "                        m.round,\n",
    "                        --m.best_of,\n",
    "                        w.name AS winner_name,\n",
    "                        l.name AS loser_name,\n",
    "                        m.winner_rank,\n",
    "                        m.loser_rank,\n",
    "                        m.winner_pts,\n",
    "                        m.loser_pts,\n",
    "                        m.winner_sets,\n",
    "                        m.loser_sets,\n",
    "                        m.comments\n",
    "                        FROM matches m\n",
    "                        JOIN players w ON m.winner_id = w.player_id\n",
    "                        JOIN players l ON m.loser_id = l.player_id\n",
    "                        ORDER BY m.date DESC\n",
    "                        LIMIT 10\n",
    "                        \"\"\", row_limit=5)"
   ]
  }
 ],
 "metadata": {
  "kernelspec": {
   "display_name": "tenis_app",
   "language": "python",
   "name": "python3"
  },
  "language_info": {
   "codemirror_mode": {
    "name": "ipython",
    "version": 3
   },
   "file_extension": ".py",
   "mimetype": "text/x-python",
   "name": "python",
   "nbconvert_exporter": "python",
   "pygments_lexer": "ipython3",
   "version": "3.12.4"
  }
 },
 "nbformat": 4,
 "nbformat_minor": 2
}
